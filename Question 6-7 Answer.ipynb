{
 "cells": [
  {
   "cell_type": "code",
   "execution_count": null,
   "metadata": {
    "collapsed": true,
    "pycharm": {
     "is_executing": true
    }
   },
   "outputs": [],
   "source": [
    "import pandas as pd\n",
    "import numpy as np\n",
    "\n",
    "df = pd.read_csv(\"country_vaccination_stats.csv\",na_values=\"NaN\")\n",
    "\n",
    "#Finding minimum vaccinations per country\n",
    "min_vac_per_country = df.groupby(\"country\")[\"daily_vaccinations\"].min()\n",
    "min_vac_per_country = min_vac_per_country.fillna(0)\n",
    "\n",
    "#Splitting data to missing and non missing part\n",
    "missing_data = df[df.daily_vaccinations.isna()]\n",
    "df = df.dropna(axis=0)\n",
    "\n",
    "#With missing data Groupby country and merge with minimums\n",
    "missing_data = missing_data.merge(min_vac_per_country,on=\"country\",how=\"inner\").drop(\"daily_vaccinations_x\",axis=1)\n",
    "missing_data.rename(columns = {'daily_vaccinations_y':'daily_vaccinations'}, inplace = True)\n",
    "\n",
    "#Concat fixed missing data and non missing data\n",
    "df = pd.concat([df,missing_data])"
   ]
  },
  {
   "cell_type": "code",
   "execution_count": null,
   "outputs": [],
   "source": [
    "df.head()"
   ],
   "metadata": {
    "collapsed": false
   }
  },
  {
   "cell_type": "code",
   "execution_count": null,
   "outputs": [],
   "source": [
    "df.info()"
   ],
   "metadata": {
    "collapsed": false
   }
  },
  {
   "cell_type": "code",
   "execution_count": null,
   "outputs": [],
   "source": [
    "#Code to list the top-3 countries with highest median daily vaccination numbers.\n",
    "df.groupby(\"country\")[\"daily_vaccinations\"].agg(\"median\").sort_values(ascending=False).head(3)"
   ],
   "metadata": {
    "collapsed": false
   }
  },
  {
   "cell_type": "code",
   "execution_count": null,
   "outputs": [],
   "source": [
    "#Number of total vaccinations done on 1/6/2021\n",
    "df[df[\"date\"]==\"1/6/2021\"].daily_vaccinations.sum()"
   ],
   "metadata": {
    "collapsed": false
   }
  }
 ],
 "metadata": {
  "kernelspec": {
   "display_name": "Python 3",
   "language": "python",
   "name": "python3"
  },
  "language_info": {
   "codemirror_mode": {
    "name": "ipython",
    "version": 2
   },
   "file_extension": ".py",
   "mimetype": "text/x-python",
   "name": "python",
   "nbconvert_exporter": "python",
   "pygments_lexer": "ipython2",
   "version": "2.7.6"
  }
 },
 "nbformat": 4,
 "nbformat_minor": 0
}
